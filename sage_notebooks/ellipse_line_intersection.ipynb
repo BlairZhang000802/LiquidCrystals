{
 "cells": [
  {
   "cell_type": "code",
   "execution_count": 40,
   "metadata": {},
   "outputs": [],
   "source": [
    "var('x,y') # x,y coords\n",
    "var('x_c,y_c') # x,y shifts\n",
    "var('theta') # rotation angle\n",
    "var('a,b') # major, minor axes\n",
    "var('L') # side-length of box\n",
    "\n",
    "# ellipse equation \n",
    "ellipse = (x*cos(theta) - y*sin(theta) - x_c)^2/a^2 + (y*cos(theta) + x*sin(theta) - y_c)^2/b^2 - 1 # = 0"
   ]
  },
  {
   "cell_type": "code",
   "execution_count": 41,
   "metadata": {},
   "outputs": [],
   "source": [
    "expanded = ellipse.expand()"
   ]
  },
  {
   "cell_type": "code",
   "execution_count": 42,
   "metadata": {},
   "outputs": [
    {
     "name": "stdout",
     "output_type": "stream",
     "text": [
      "y^2*(cos(theta)^2/b^2 + sin(theta)^2/a^2) - 2*y*(y_c*cos(theta)/b^2 - x_c*sin(theta)/a^2) + x_c^2/a^2 + y_c^2/b^2 - 1\n"
     ]
    },
    {
     "data": {
      "text/plain": [
       "cos(theta)^2/b^2 + sin(theta)^2/a^2"
      ]
     },
     "execution_count": 42,
     "metadata": {},
     "output_type": "execute_result"
    }
   ],
   "source": [
    "# convert ellipse-wall intersection to quadratic equation\n",
    "expanded_x_0 = expanded.subs(x=0)\n",
    "expanded_y_0 = expanded.subs(y=0)\n",
    "expanded_x_L = expanded.subs(x=L)\n",
    "expanded_y_L = expanded.subs(y=L)\n",
    "\n",
    "# collect like terms\n",
    "collected_x_0 = expanded_x_0.collect(y^2).collect(y)\n",
    "collected_x_L = expanded_x_L.collect(y^2).collect(y)\n",
    "collected_y_0 = expanded_y_0.collect(x^2).collect(x)\n",
    "collected_y_L = expanded_y_L.collect(x^2).collect(x)\n",
    "\n",
    "# get quadratic coefficients\n",
    "print(collected_x_0)\n",
    "expanded_x_0.coefficient(y^2)"
   ]
  },
  {
   "cell_type": "code",
   "execution_count": 43,
   "metadata": {},
   "outputs": [
    {
     "name": "stdout",
     "output_type": "stream",
     "text": [
      "4*cos(theta)^2/b^2 + 4*sin(theta)^2/a^2\n",
      "4/b^2 - 4/(a^2*b^2)\n"
     ]
    }
   ],
   "source": [
    "# compute discriminant of quadratic equation\n",
    "def compute_discriminant(p, var):\n",
    "    a = p.coefficient(var^2)\n",
    "    b = p.coefficient(var)\n",
    "    c = p - a*var^2 - b*var\n",
    "    \n",
    "    disc = b^2 - 4*a*c\n",
    "    \n",
    "    return disc\n",
    "\n",
    "disc_x_0 = compute_discriminant(collected_x_0, y)\n",
    "disc_x_L = compute_discriminant(collected_x_L, y)\n",
    "disc_y_0 = compute_discriminant(collected_y_0, x)\n",
    "disc_y_L = compute_discriminant(collected_y_L, x)\n",
    "\n",
    "print(disc_x_0.expand().subs(x_c=0).subs(y_c=0))\n",
    "print(disc_y_L.expand().subs(x_c=0).subs(y_c=0).subs(L=1,theta=pi/2))"
   ]
  },
  {
   "cell_type": "code",
   "execution_count": 29,
   "metadata": {},
   "outputs": [
    {
     "data": {
      "text/plain": [
       "(3*a + 2)*a/b"
      ]
     },
     "execution_count": 29,
     "metadata": {},
     "output_type": "execute_result"
    }
   ],
   "source": [
    "factor(2*a/b + 3*a^2/b)"
   ]
  },
  {
   "cell_type": "code",
   "execution_count": null,
   "metadata": {},
   "outputs": [],
   "source": []
  }
 ],
 "metadata": {
  "kernelspec": {
   "display_name": "SageMath 9.2",
   "language": "sage",
   "name": "sagemath"
  },
  "language_info": {
   "codemirror_mode": {
    "name": "ipython",
    "version": 3
   },
   "file_extension": ".py",
   "mimetype": "text/x-python",
   "name": "python",
   "nbconvert_exporter": "python",
   "pygments_lexer": "ipython3",
   "version": "3.7.7"
  }
 },
 "nbformat": 4,
 "nbformat_minor": 4
}
