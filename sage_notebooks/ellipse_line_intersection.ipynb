{
 "cells": [
  {
   "cell_type": "code",
   "execution_count": 1,
   "metadata": {},
   "outputs": [],
   "source": [
    "var('x,y') # x,y coords\n",
    "var('x_c,y_c') # x,y shifts\n",
    "var('alpha') # rotation angle\n",
    "var('a,b') # major, minor axes\n",
    "var('L') # side-length of box\n",
    "var('k,d') # slope, y intercept of line \n",
    "\n",
    "# ellipse equation \n",
    "ellipse = (x*cos(alpha) - y*sin(alpha) - x_c)^2/a^2 + (y*cos(alpha) + x*sin(alpha) - y_c)^2/b^2 - 1 # = 0"
   ]
  },
  {
   "cell_type": "code",
   "execution_count": 2,
   "metadata": {},
   "outputs": [],
   "source": [
    "expanded = ellipse.expand()"
   ]
  },
  {
   "cell_type": "code",
   "execution_count": 3,
   "metadata": {},
   "outputs": [
    {
     "name": "stdout",
     "output_type": "stream",
     "text": [
      "(k^2*cos(alpha)^2/b^2 + k^2*sin(alpha)^2/a^2 - 2*k*cos(alpha)*sin(alpha)/a^2 + 2*k*cos(alpha)*sin(alpha)/b^2 + cos(alpha)^2/a^2 + sin(alpha)^2/b^2)*x^2 + 2*(d*k*cos(alpha)^2/b^2 + d*k*sin(alpha)^2/a^2 - k*y_c*cos(alpha)/b^2 + k*x_c*sin(alpha)/a^2 - d*cos(alpha)*sin(alpha)/a^2 + d*cos(alpha)*sin(alpha)/b^2 - x_c*cos(alpha)/a^2 - y_c*sin(alpha)/b^2)*x + d^2*cos(alpha)^2/b^2 + d^2*sin(alpha)^2/a^2 - 2*d*y_c*cos(alpha)/b^2 + 2*d*x_c*sin(alpha)/a^2 + x_c^2/a^2 + y_c^2/b^2 - 1\n"
     ]
    }
   ],
   "source": [
    "# convert box ellipse-wall intersection to quadratic equation\n",
    "expanded_x_0 = expanded.subs(x=0)\n",
    "expanded_y_0 = expanded.subs(y=0)\n",
    "expanded_x_L = expanded.subs(x=L)\n",
    "expanded_y_L = expanded.subs(y=L)\n",
    "# intersection with a general line\n",
    "expanded_line_eq = expanded.subs(y=k*x+d)\n",
    "\n",
    "# collect like terms\n",
    "collected_x_0 = expanded_x_0.collect(y^2).collect(y)\n",
    "collected_x_L = expanded_x_L.collect(y^2).collect(y)\n",
    "collected_y_0 = expanded_y_0.collect(x^2).collect(x)\n",
    "collected_y_L = expanded_y_L.collect(x^2).collect(x)\n",
    "collected_line_eq = expanded_line_eq.collect(x^2).collect(x)\n",
    "\n",
    "print(collected_line_eq)"
   ]
  },
  {
   "cell_type": "code",
   "execution_count": 4,
   "metadata": {},
   "outputs": [],
   "source": [
    "# compute discriminant of quadratic equation\n",
    "def compute_discriminant(p, var):\n",
    "    a = p.coefficient(var^2)\n",
    "    b = p.coefficient(var)\n",
    "    c = p - a*var^2 - b*var\n",
    "    \n",
    "    disc = b^2 - 4*a*c\n",
    "    \n",
    "    return disc\n",
    "\n",
    "# discriminants for box boundaries\n",
    "disc_x_0 = compute_discriminant(collected_x_0, y)\n",
    "disc_x_L = compute_discriminant(collected_x_L, y)\n",
    "disc_y_0 = compute_discriminant(collected_y_0, x)\n",
    "disc_y_L = compute_discriminant(collected_y_L, x)\n",
    "# discriminant for arbitrary line-ellipse intersection\n",
    "disc_y_general = compute_discriminant(collected_line_eq, x)"
   ]
  },
  {
   "cell_type": "code",
   "execution_count": 7,
   "metadata": {},
   "outputs": [
    {
     "data": {
      "text/plain": [
       "(d*k*cos(alpha)^2/b^2 + d*k*sin(alpha)^2/a^2 - k*y_c*cos(alpha)/b^2 + k*x_c*sin(alpha)/a^2 - d*cos(alpha)*sin(alpha)/a^2 + d*cos(alpha)*sin(alpha)/b^2 - x_c*cos(alpha)/a^2 - y_c*sin(alpha)/b^2)^2 - (d^2*cos(alpha)^2/b^2 + d^2*sin(alpha)^2/a^2 - 2*d*y_c*cos(alpha)/b^2 + 2*d*x_c*sin(alpha)/a^2 + x_c^2/a^2 + y_c^2/b^2 - 1)*(k^2*cos(alpha)^2/b^2 + k^2*sin(alpha)^2/a^2 - 2*k*cos(alpha)*sin(alpha)/a^2 + 2*k*cos(alpha)*sin(alpha)/b^2 + cos(alpha)^2/a^2 + sin(alpha)^2/b^2)"
      ]
     },
     "execution_count": 7,
     "metadata": {},
     "output_type": "execute_result"
    }
   ],
   "source": [
    "(disc_y_general / 4)"
   ]
  },
  {
   "cell_type": "code",
   "execution_count": null,
   "metadata": {},
   "outputs": [],
   "source": []
  }
 ],
 "metadata": {
  "kernelspec": {
   "display_name": "SageMath 9.2",
   "language": "sage",
   "name": "sagemath"
  },
  "language_info": {
   "codemirror_mode": {
    "name": "ipython",
    "version": 3
   },
   "file_extension": ".py",
   "mimetype": "text/x-python",
   "name": "python",
   "nbconvert_exporter": "python",
   "pygments_lexer": "ipython3",
   "version": "3.7.7"
  }
 },
 "nbformat": 4,
 "nbformat_minor": 4
}
