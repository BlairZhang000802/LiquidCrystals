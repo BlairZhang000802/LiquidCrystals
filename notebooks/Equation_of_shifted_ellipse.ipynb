{
 "cells": [
  {
   "cell_type": "code",
   "execution_count": 2,
   "metadata": {},
   "outputs": [
    {
     "data": {
      "text/plain": [
       "(a, b)"
      ]
     },
     "execution_count": 2,
     "metadata": {},
     "output_type": "execute_result"
    }
   ],
   "source": [
    "var('phi,r')\n",
    "var('x_c,y_c')\n",
    "var('a,b')"
   ]
  },
  {
   "cell_type": "code",
   "execution_count": 4,
   "metadata": {},
   "outputs": [],
   "source": [
    "ellipse_eqn = (r*cos(phi) - x_c)^2 / a^2 + (r*sin(phi) - y_c)^2 / b^2 == 1"
   ]
  },
  {
   "cell_type": "code",
   "execution_count": 5,
   "metadata": {},
   "outputs": [
    {
     "data": {
      "text/plain": [
       "[r == (b^2*x_c*cos(phi) + a^2*y_c*sin(phi) - sqrt(b^2*cos(phi)^2 - y_c^2*cos(phi)^2 + 2*x_c*y_c*cos(phi)*sin(phi) + a^2*sin(phi)^2 - x_c^2*sin(phi)^2)*a*b)/(b^2*cos(phi)^2 + a^2*sin(phi)^2), r == (b^2*x_c*cos(phi) + a^2*y_c*sin(phi) + sqrt(b^2*cos(phi)^2 - y_c^2*cos(phi)^2 + 2*x_c*y_c*cos(phi)*sin(phi) + a^2*sin(phi)^2 - x_c^2*sin(phi)^2)*a*b)/(b^2*cos(phi)^2 + a^2*sin(phi)^2)]"
      ]
     },
     "execution_count": 5,
     "metadata": {},
     "output_type": "execute_result"
    }
   ],
   "source": [
    "solve(ellipse_eqn, r)"
   ]
  },
  {
   "cell_type": "code",
   "execution_count": 6,
   "metadata": {},
   "outputs": [
    {
     "data": {
      "text/plain": [
       "[r == -a*b/sqrt(b^2*cos(phi)^2 + a^2*sin(phi)^2), r == a*b/sqrt(b^2*cos(phi)^2 + a^2*sin(phi)^2)]"
      ]
     },
     "execution_count": 6,
     "metadata": {},
     "output_type": "execute_result"
    }
   ],
   "source": [
    "ellipse = (r*cos(phi))^2/a^2 + (r*sin(phi))^2/b^2 == 1\n",
    "solve(ellipse, r)"
   ]
  }
 ],
 "metadata": {
  "kernelspec": {
   "display_name": "SageMath 9.2",
   "language": "sage",
   "name": "sagemath"
  },
  "language_info": {
   "codemirror_mode": {
    "name": "ipython",
    "version": 3
   },
   "file_extension": ".py",
   "mimetype": "text/x-python",
   "name": "python",
   "nbconvert_exporter": "python",
   "pygments_lexer": "ipython3",
   "version": "3.7.7"
  }
 },
 "nbformat": 4,
 "nbformat_minor": 4
}
