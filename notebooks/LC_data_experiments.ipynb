{
 "cells": [
  {
   "cell_type": "code",
   "execution_count": null,
   "metadata": {},
   "outputs": [],
   "source": [
    "import numpy as np\n",
    "import matplotlib.pyplot as plt"
   ]
  },
  {
   "cell_type": "code",
   "execution_count": null,
   "metadata": {},
   "outputs": [],
   "source": [
    "dataset_path = \"C:\\\\Users\\\\Sam Yu\\\\Desktop\\\\School\\\\Fall2021\\\\Phys_437A_Research_Project\\\\datasets\\\\r=14\\\\annulus_R25_r14_n_20_k_20.0_HardBC\\\\instanceRun\""
   ]
  },
  {
   "cell_type": "code",
   "execution_count": null,
   "metadata": {},
   "outputs": [],
   "source": [
    "import sys\n",
    "sys.path.append(\"C:\\\\Users\\\\Sam Yu\\\\Documents\\\\GitHub\\\\LiquidCrystals\")"
   ]
  },
  {
   "cell_type": "code",
   "execution_count": 1,
   "metadata": {},
   "outputs": [
    {
     "ename": "ModuleNotFoundError",
     "evalue": "No module named 'postprocessing'",
     "output_type": "error",
     "traceback": [
      "\u001b[1;31m---------------------------------------------------------------------------\u001b[0m",
      "\u001b[1;31mModuleNotFoundError\u001b[0m                       Traceback (most recent call last)",
      "\u001b[1;32mC:\\Users\\SAMYU~1\\AppData\\Local\\Temp/ipykernel_26892/2845329058.py\u001b[0m in \u001b[0;36m<module>\u001b[1;34m\u001b[0m\n\u001b[1;32m----> 1\u001b[1;33m \u001b[1;32mfrom\u001b[0m \u001b[0mpostprocessing\u001b[0m \u001b[1;32mimport\u001b[0m \u001b[0mLCSystem\u001b[0m\u001b[1;33m\u001b[0m\u001b[1;33m\u001b[0m\u001b[0m\n\u001b[0m",
      "\u001b[1;31mModuleNotFoundError\u001b[0m: No module named 'postprocessing'"
     ]
    }
   ],
   "source": [
    "from postprocessing import LCSystem"
   ]
  },
  {
   "cell_type": "code",
   "execution_count": null,
   "metadata": {},
   "outputs": [],
   "source": [
    "from pprint import pprint\n",
    "lc = LCSystem(lc_data_path=dataset_path)\n",
    "\n",
    "pprint(vars(lc))"
   ]
  },
  {
   "cell_type": "code",
   "execution_count": null,
   "metadata": {},
   "outputs": [],
   "source": [
    "params = lc.sim_params\n",
    "print(params)"
   ]
  },
  {
   "cell_type": "code",
   "execution_count": null,
   "metadata": {},
   "outputs": [],
   "source": [
    "outer_radius = params[\"R\"]\n",
    "inner_radius = params[\"r\"]\n",
    "\n",
    "print(lc.system_state_at_step[0])"
   ]
  },
  {
   "cell_type": "code",
   "execution_count": null,
   "metadata": {},
   "outputs": [],
   "source": [
    "from matplotlib.patches import Ellipse\n",
    "\n",
    "fig, ax = plt.subplots()\n",
    "fig.set_size_inches(10, 10)\n",
    "\n",
    "outer_circle = plt.Circle((0,0), outer_radius, color='black', fill=False, linewidth=2.2)\n",
    "inner_circle = plt.Circle((0,0), inner_radius, color='black', fill=False, linewidth=2.2)\n",
    "\n",
    "ax.add_patch(inner_circle)\n",
    "ax.add_patch(outer_circle)\n",
    "\n",
    "a = params[\"Semi Major Axis\"]\n",
    "b = params[\"Semi Minor Axis\"]\n",
    "\n",
    "rad_to_deg = 180 / np.pi\n",
    "\n",
    "mc_step = 0\n",
    "for crystal_pos in lc.system_state_at_step[mc_step]:\n",
    "    crystal = Ellipse(xy=crystal_pos[:-1], angle=rad_to_deg*crystal_pos[-1], width=2*a, height=2*b,\n",
    "                      linewidth=1.7, color='black', fill=False)\n",
    "    ax.add_patch(crystal)\n",
    "\n",
    "circle_pad = 5\n",
    "plt.xlim(-outer_radius-circle_pad, outer_radius+circle_pad)\n",
    "plt.ylim(-outer_radius-circle_pad, outer_radius+circle_pad)\n",
    "\n",
    "plt.rc('font', size=20)\n",
    "plt.rc('axes', labelsize=20)\n",
    "    \n",
    "ax.set_title(f'N={params[\"# of Ellipse\"]} b={b} k={a/b} R={params[\"R\"]} r={params[\"r\"]}')\n",
    "\n",
    "fig.savefig(f\"C:\\\\Users\\\\Sam Yu\\\\Documents\\\\GitHub\\\\LiquidCrystals\\\\snapshots\\\\snapshot_{mc_step}\")"
   ]
  },
  {
   "cell_type": "code",
   "execution_count": null,
   "metadata": {},
   "outputs": [],
   "source": [
    "lc.plot_snapshot(20000)"
   ]
  },
  {
   "cell_type": "code",
   "execution_count": null,
   "metadata": {},
   "outputs": [],
   "source": []
  }
 ],
 "metadata": {
  "kernelspec": {
   "display_name": "Python 3 (ipykernel)",
   "language": "python",
   "name": "python3"
  },
  "language_info": {
   "codemirror_mode": {
    "name": "ipython",
    "version": 3
   },
   "file_extension": ".py",
   "mimetype": "text/x-python",
   "name": "python",
   "nbconvert_exporter": "python",
   "pygments_lexer": "ipython3",
   "version": "3.9.4"
  }
 },
 "nbformat": 4,
 "nbformat_minor": 4
}
